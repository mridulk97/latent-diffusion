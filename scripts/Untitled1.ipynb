{
 "cells": [
  {
   "cell_type": "code",
   "execution_count": 1,
   "id": "abeb24b9",
   "metadata": {},
   "outputs": [
    {
     "name": "stderr",
     "output_type": "stream",
     "text": [
      "Matplotlib created a temporary config/cache directory at /localscratch/1848513/matplotlib-m7i7ivgt because the default path (/home/jovyan/.cache/matplotlib) is not a writable directory; it is highly recommended to set the MPLCONFIGDIR environment variable to a writable directory, in particular to speed up the import of Matplotlib and to better support multiprocessing.\n"
     ]
    }
   ],
   "source": [
    "import os\n",
    "import pickle\n",
    "import numpy as np\n",
    "import pandas as pd\n",
    "import seaborn as sns\n",
    "import matplotlib.pyplot as plt\n",
    "\n",
    "\n",
    "\n",
    "def global_setting():\n",
    "    sns.set_style(\"white\")\n",
    "\n",
    "    plt.rcParams.update({                      # setup matplotlib to use latex for output\n",
    "        \"pgf.texsystem\": \"pdflatex\",        # change this if using xetex or lautex\n",
    "        \"text.usetex\": True,                # use LaTeX to write all text\n",
    "        \"font.family\": \"serif\",\n",
    "        \"font.serif\": [],                   # blank entries should cause plots to inherit fonts from the document\n",
    "        \"font.sans-serif\": [],\n",
    "        \"font.monospace\": [],\n",
    "        \"figure.figsize\": (12,8),\n",
    "        \"axes.labelsize\": 12,               # LaTeX default is 10pt font.\n",
    "        \"font.size\": 11,\n",
    "        \"legend.fontsize\": 10,               # Make the legend/label fonts a little smaller\n",
    "        \"xtick.labelsize\": 10,\n",
    "        \"ytick.labelsize\": 10\n",
    "        })\n",
    "global_setting()"
   ]
  },
  {
   "cell_type": "code",
   "execution_count": 5,
   "id": "b1e105cd",
   "metadata": {},
   "outputs": [],
   "source": []
  },
  {
   "cell_type": "code",
   "execution_count": 13,
   "id": "10ebbfcc",
   "metadata": {
    "scrolled": true
   },
   "outputs": [
    {
     "name": "stdout",
     "output_type": "stream",
     "text": [
      "{'Alosa chrysochloris': 482298, 'Carassius auratus': 1005907, 'Cyprinus carpio': 429083, 'Esox americanus': 496115, 'Gambusia affinis': 617445, 'Lepisosteus osseus': 519445, 'Lepisosteus platostomus': 731608, 'Lepomis auritus': 1002718, 'Lepomis cyanellus': 476361, 'Lepomis gibbosus': 670266, 'Lepomis gulosus': 476359, 'Lepomis humilis': 892772, 'Lepomis macrochirus': 836783, 'Lepomis megalotis': 271249, 'Lepomis microlophus': 271244, 'Morone chrysops': 246133, 'Morone mississippiensis': 769290, 'Notropis atherinoides': 636312, 'Notropis blennius': 419165, 'Notropis boops': 443777, 'Notropis buccatus': 269524, 'Notropis buchanani': 555686, 'Notropis dorsalis': 419160, 'Notropis hudsonius': 135051, 'Notropis leuciodus': 338652, 'Notropis nubilus': 550199, 'Notropis percobromus': 403731, 'Notropis stramineus': 351741, 'Notropis telescopus': 550190, 'Notropis texanus': 550208, 'Notropis volucellus': 351735, 'Notropis wickliffi': 563834, 'Noturus exilis': 678206, 'Noturus flavus': 101864, 'Noturus gyrinus': 652777, 'Noturus miurus': 282530, 'Noturus nocturnus': 621586, 'Phenacobius mirabilis': 945111}\n"
     ]
    }
   ],
   "source": [
    "class_to_node = '/home/mridul/data/fish_diffusion/class_to_ancestral_label.pkl'\n",
    "with open(class_to_node, 'rb') as pickle_file:\n",
    "    class_to_node_dict = pickle.load(pickle_file)\n",
    "all_classes = []\n",
    "for class_name, node_representation in (class_to_node_dict.items()):\n",
    "    all_classes.append(class_name)\n",
    "\n",
    "all_classes = sorted(all_classes)\n",
    "\n",
    "from ldm.data.phylogeny import Phylogeny\n",
    "phylogeny = Phylogeny(\"/home/mridul/data/fish_diffusion\", all_classes)\n",
    "\n",
    "\n",
    "tree = phylogeny.tree\n",
    "\n",
    "dist = np.zeros(shape=(38, 38))\n",
    "\n",
    "for i in range(38):\n",
    "    for j in range(38):\n",
    "        if i!=j:\n",
    "            i_th = 'ott' + str(phylogeny.ott_id_dict[all_classes[i]])\n",
    "            j_th = 'ott' + str(phylogeny.ott_id_dict[all_classes[j]])\n",
    "            dist[i][j] = tree.get_distance(i_th, j_th)\n",
    "\n",
    "normalized_array = (dist - dist.min()) / (dist.max() - dist.min())"
   ]
  },
  {
   "cell_type": "code",
   "execution_count": 14,
   "id": "08b0e74e",
   "metadata": {},
   "outputs": [
    {
     "data": {
      "text/plain": [
       "array([[0.        , 0.64774604, 0.64774604, ..., 0.64774604, 0.64774604,\n",
       "        0.64774604],\n",
       "       [0.64774604, 0.        , 0.05681078, ..., 0.56497331, 0.56497331,\n",
       "        0.44199014],\n",
       "       [0.64774604, 0.05681078, 0.        , ..., 0.56497331, 0.56497331,\n",
       "        0.44199014],\n",
       "       ...,\n",
       "       [0.64774604, 0.56497331, 0.56497331, ..., 0.        , 0.0859495 ,\n",
       "        0.56497331],\n",
       "       [0.64774604, 0.56497331, 0.56497331, ..., 0.0859495 , 0.        ,\n",
       "        0.56497331],\n",
       "       [0.64774604, 0.44199014, 0.44199014, ..., 0.56497331, 0.56497331,\n",
       "        0.        ]])"
      ]
     },
     "execution_count": 14,
     "metadata": {},
     "output_type": "execute_result"
    }
   ],
   "source": [
    "normalized_array"
   ]
  },
  {
   "cell_type": "code",
   "execution_count": 20,
   "id": "7f0c1b57",
   "metadata": {},
   "outputs": [
    {
     "data": {
      "image/png": "[encoded data removed]",
      "text/plain": [
       "<Figure size 1000x800 with 2 Axes>"
      ]
     },
     "metadata": {},
     "output_type": "display_data"
    },
    {
     "name": "stdout",
     "output_type": "stream",
     "text": [
      "Yay\n"
     ]
    }
   ],
   "source": [
    "plt.figure(figsize=(10, 8))\n",
    "heat_map = sns.heatmap(normalized_array, cmap='coolwarm', annot=False)\n",
    "\n",
    "cbar = heat_map.collections[0].colorbar\n",
    "cbar.ax.tick_params(labelsize=40) \n",
    "\n",
    "\n",
    "# Calculate the tick positions and labels for every 5th column\n",
    "xtick_positions = np.arange(0, normalized_array.shape[1], 5)\n",
    "xtick_labels = [str(x) for x in xtick_positions]\n",
    "\n",
    "# Calculate the tick positions and labels for every 5th row\n",
    "ytick_positions = np.arange(0, normalized_array.shape[0], 5)\n",
    "ytick_labels = [str(y) for y in ytick_positions]\n",
    "\n",
    "# Set x-ticks and y-ticks\n",
    "plt.xticks(ticks=xtick_positions, labels=xtick_labels, fontsize=25)\n",
    "plt.yticks(ticks=ytick_positions, labels=ytick_labels, fontsize=25)\n",
    "\n",
    "\n",
    "os.makedirs('/home/mridul/sample_ldm/similarity_final_small', exist_ok=True)\n",
    "# Saving the plot\n",
    "file_path = '/home/mridul/sample_ldm/similarity_final_small/phylogeny_dist.png'\n",
    "\n",
    "plt.tight_layout()\n",
    "plt.savefig(file_path)\n",
    "plt.show()\n",
    "\n",
    "print('Yay')"
   ]
  },
  {
   "cell_type": "code",
   "execution_count": null,
   "id": "d047d1a2",
   "metadata": {},
   "outputs": [],
   "source": []
  }
 ],
 "metadata": {
  "kernelspec": {
   "display_name": "Python [conda env:.conda-ldm] *",
   "language": "python",
   "name": "conda-env-.conda-ldm-py"
  },
  "language_info": {
   "codemirror_mode": {
    "name": "ipython",
    "version": 3
   },
   "file_extension": ".py",
   "mimetype": "text/x-python",
   "name": "python",
   "nbconvert_exporter": "python",
   "pygments_lexer": "ipython3",
   "version": "3.8.5"
  }
 },
 "nbformat": 4,
 "nbformat_minor": 5
}
